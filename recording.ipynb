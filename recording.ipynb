{
 "cells": [
  {
   "cell_type": "code",
   "execution_count": null,
   "metadata": {},
   "outputs": [],
   "source": [
    "import numpy as np\n",
    "import cv2\n",
    "import pyautogui\n",
    "import pyaudio\n",
    "\n",
    "import PIL"
   ]
  },
  {
   "cell_type": "code",
   "execution_count": null,
   "metadata": {},
   "outputs": [],
   "source": [
    "# Set the video codec and output file name\n",
    "codec = cv2.VideoWriter_fourcc(*\"XVID\")\n",
    "output_file = \"output.avi\""
   ]
  },
  {
   "cell_type": "code",
   "execution_count": null,
   "metadata": {},
   "outputs": [],
   "source": [
    "# Set the screen size and FPS\n",
    "screen_size = (1920, 1080)\n",
    "fps = 30.0"
   ]
  },
  {
   "cell_type": "code",
   "execution_count": null,
   "metadata": {},
   "outputs": [],
   "source": [
    "# Set the audio parameters\n",
    "audio_format = pyaudio.paInt16\n",
    "audio_channels = 1\n",
    "audio_rate = 44100\n",
    "audio_chunk = 1024"
   ]
  },
  {
   "cell_type": "code",
   "execution_count": null,
   "metadata": {},
   "outputs": [],
   "source": [
    "# Create the video writer object\n",
    "video_writer = cv2.VideoWriter(output_file, codec, fps, screen_size)"
   ]
  },
  {
   "cell_type": "code",
   "execution_count": null,
   "metadata": {},
   "outputs": [],
   "source": [
    "# Create the audio stream object\n",
    "audio_stream = pyaudio.PyAudio().open(\n",
    "    format=audio_format,\n",
    "    channels=audio_channels,\n",
    "    rate=audio_rate,\n",
    "    input=True,\n",
    "    frames_per_buffer=audio_chunk\n",
    ")"
   ]
  },
  {
   "cell_type": "code",
   "execution_count": null,
   "metadata": {},
   "outputs": [],
   "source": [
    "# Start recording\n",
    "while True:\n",
    "    # Capture the screen\n",
    "    screenshot = pyautogui.screenshot()\n",
    "\n",
    "    # Convert the screenshot to a numpy array\n",
    "    frame = np.array(screenshot)\n",
    "\n",
    "    # Convert the color format from BGR to RGB\n",
    "    frame = cv2.cvtColor(frame, cv2.COLOR_BGR2RGB)\n",
    "\n",
    "    # Write the frame to the video\n",
    "    video_writer.write(frame)\n",
    "\n",
    "    # Read audio frames\n",
    "    audio_frames = audio_stream.read(audio_chunk)\n",
    "\n",
    "    # Write audio frames to the video file\n",
    "    video_writer.write(np.frombuffer(audio_frames, dtype=np.int16).reshape(-1, 1))\n",
    "\n",
    "    # Break the loop if the user presses the 'q' key\n",
    "    if cv2.waitKey(1) == ord(\"q\"):\n",
    "        break\n",
    "\n",
    "# Release the video writer and audio stream objects, and destroy all windows\n",
    "video_writer.release()\n",
    "audio_stream.stop_stream()\n",
    "audio_stream.close()\n",
    "pyaudio.PyAudio().terminate()\n",
    "cv2.destroyAllWindows()"
   ]
  }
 ],
 "metadata": {
  "kernelspec": {
   "display_name": ".venv",
   "language": "python",
   "name": "python3"
  },
  "language_info": {
   "codemirror_mode": {
    "name": "ipython",
    "version": 3
   },
   "file_extension": ".py",
   "mimetype": "text/x-python",
   "name": "python",
   "nbconvert_exporter": "python",
   "pygments_lexer": "ipython3",
   "version": "3.10.9"
  },
  "orig_nbformat": 4,
  "vscode": {
   "interpreter": {
    "hash": "2c43deef97ce5bed9a732a39f9056a14cc4702402f00829104cf7b6ddc5366b3"
   }
  }
 },
 "nbformat": 4,
 "nbformat_minor": 2
}
